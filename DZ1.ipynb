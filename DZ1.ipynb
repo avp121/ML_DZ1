{
 "cells": [
  {
   "cell_type": "code",
   "execution_count": 19,
   "metadata": {
    "collapsed": false
   },
   "outputs": [],
   "source": [
    "import pandas as pd\n",
    "import numpy as np\n",
    "import scipy as sp\n",
    "import matplotlib.pyplot as plt\n",
    "\n",
    "df = pd.read_csv(\"data.csv\", sep=';', encoding = \"ISO-8859-1\")"
   ]
  },
  {
   "cell_type": "code",
   "execution_count": 20,
   "metadata": {
    "collapsed": false
   },
   "outputs": [],
   "source": [
    "def DrawPoints(coord1, coord2, First, Last):\n",
    "    X=df[coord1]\n",
    "    Y=df[coord2]\n",
    "    i=First\n",
    "    #print (len(df))\n",
    "    #while i<=100:\n",
    "    #while i<=len(df):\n",
    "    while i <= Last:\n",
    "        plt.scatter(df[coord1][i], df[coord2][i], color=\"blue\")\n",
    "        i+=1\n",
    "    plt.show()"
   ]
  },
  {
   "cell_type": "code",
   "execution_count": 21,
   "metadata": {
    "collapsed": false
   },
   "outputs": [
    {
     "data": {
      "image/png": "[encoded data removed]",
      "text/plain": [
       "<matplotlib.figure.Figure at 0xaba89b0>"
      ]
     },
     "metadata": {},
     "output_type": "display_data"
    },
    {
     "name": "stdout",
     "output_type": "stream",
     "text": [
      "done\n"
     ]
    }
   ],
   "source": [
    "#DrawPoint('X13', 'X14')\n",
    "DrawPoints('X13', 'X14', 1, 100)#just testing\n",
    "print (\"done\")"
   ]
  },
  {
   "cell_type": "code",
   "execution_count": 55,
   "metadata": {
    "collapsed": false
   },
   "outputs": [],
   "source": [
    "def PrintParams(Prob, Real, First, Last, NeedPrint):\n",
    "    ProbArray=df[Prob]\n",
    "    TrueArray=df[Real]\n",
    "    i = First\n",
    "    tn = 0\n",
    "    tp = 0\n",
    "    fn = 0\n",
    "    fp = 0\n",
    "    #print (ProbArray[1])\n",
    "    while i <= Last:\n",
    "        if ProbArray[i] >= 0.5:#╤ä╤Ç╨╛╨┤ ╤ü ╤é╨╛╤ç╨║╨╕ ╨╖╤Ç╨╡╨╜╨╕╤Å ╤ü╨╕╤ü╤é╨╡╨╝╤ï\n",
    "            if TrueArray[i] == \"F\":\n",
    "                #plt.scatter(x, y, color=\"red\")#true negative\n",
    "                tn+=1\n",
    "                if NeedPrint != 0: \n",
    "                    print (ProbArray[i], \" \", TrueArray[i], \" tn\")\n",
    "            if TrueArray[i] == \"G\":\n",
    "                #plt.scatter(x, y, color=\"orange\")#false positive\n",
    "                fp+=1\n",
    "                if NeedPrint != 0: \n",
    "                    print (ProbArray[i], \" \", TrueArray[i], \" fp\")\n",
    "        else:#╨╗╨╡╨│╨╕╤é╨╕╨╝╨╜╨░╤Å ╤ü ╤é╨╛╤ç╨║╨╕ ╨╖╤Ç╨╡╨╜╨╕╤Å ╤ü╨╕╤ü╤é╨╡╨╝╤ï\n",
    "            if TrueArray[i] == \"F\":\n",
    "                #plt.scatter(x, y, color=\"blue\")#false negative\n",
    "                fn+=1\n",
    "                if NeedPrint != 0: \n",
    "                    print (ProbArray[i], \" \", TrueArray[i], \" fn\")\n",
    "            if TrueArray[i] == \"G\":\n",
    "                #plt.scatter(x, y, color=\"green\")#true positive\n",
    "                tp+=1\n",
    "                if NeedPrint != 0: \n",
    "                    print (ProbArray[i], \" \", TrueArray[i], \" tp\")\n",
    "        i+=1\n",
    "    print(\"Summary:\")\n",
    "    print (\"true positive\", tp)\n",
    "    print (\"true negative\", tn)\n",
    "    print (\"false positive\", fp)\n",
    "    print (\"false negative\", fn)"
   ]
  },
  {
   "cell_type": "code",
   "execution_count": 112,
   "metadata": {
    "collapsed": false
   },
   "outputs": [
    {
     "name": "stdout",
     "output_type": "stream",
     "text": [
      "From p1_Fraud:\n",
      "0.1233   G  tp\n",
      "0.0433   G  tp\n",
      "0.28   G  tp\n",
      "0.3117   G  tp\n",
      "0.1758   G  tp\n",
      "0.345   F  fn\n",
      "0.1242   G  tp\n",
      "0.0642   G  tp\n",
      "0.0758   G  tp\n",
      "0.0733   G  tp\n",
      "0.275   G  tp\n",
      "0.0542   G  tp\n",
      "0.0717   G  tp\n",
      "0.085   G  tp\n",
      "0.306   F  fn\n",
      "0.163   F  fn\n",
      "0.391   F  fn\n",
      "0.01   G  tp\n",
      "0.0333   G  tp\n",
      "0.473   G  tp\n",
      "0.3675   F  fn\n",
      "0.575   G  fp\n",
      "0.641   G  fp\n",
      "0.641   G  fp\n",
      "0.065   G  tp\n",
      "0.0642   G  tp\n",
      "0.185   F  fn\n",
      "0.614   G  fp\n",
      "0.0242   G  tp\n",
      "0.075   G  tp\n",
      "0.36   G  tp\n",
      "0.3442   G  tp\n",
      "0.32   G  tp\n",
      "0.277   F  fn\n",
      "0.135   G  tp\n",
      "0.0308   G  tp\n",
      "0.0317   G  tp\n",
      "0.0992   F  fn\n",
      "0.456   F  fn\n",
      "0.1683   G  tp\n",
      "0.0092   G  tp\n",
      "0.0542   G  tp\n",
      "0.659   F  tn\n",
      "0.2917   G  tp\n",
      "0.0683   G  tp\n",
      "0.686   F  tn\n",
      "0.1617   G  tp\n",
      "0.2825   G  tp\n",
      "0.695   F  tn\n",
      "0.38   G  tp\n",
      "0.0492   G  tp\n",
      "0.395   G  tp\n",
      "0.649   G  fp\n",
      "0.474   F  fn\n",
      "0.21   G  tp\n",
      "0.691   F  tn\n",
      "0.29   G  tp\n",
      "0.065   G  tp\n",
      "0.0717   G  tp\n",
      "0.695   F  tn\n",
      "0.2967   G  tp\n",
      "0.22   F  fn\n",
      "0.678   G  fp\n",
      "0.603   G  fp\n",
      "0.667   G  fp\n",
      "0.0942   G  tp\n",
      "0.1008   G  tp\n",
      "0.065   G  tp\n",
      "0.3783   G  tp\n",
      "0.691   G  fp\n",
      "0.0075   G  tp\n",
      "0.585   G  fp\n",
      "0.691   G  fp\n",
      "0.1642   G  tp\n",
      "0.0875   G  tp\n",
      "0.2475   G  tp\n",
      "0.692   G  fp\n",
      "0.0717   G  tp\n",
      "0.215   G  tp\n",
      "0.693   G  fp\n",
      "0.691   G  fp\n",
      "0.389   F  fn\n",
      "0.0517   G  tp\n",
      "0.462   F  fn\n",
      "0.1717   G  tp\n",
      "0.0275   G  tp\n",
      "0.0425   G  tp\n",
      "0.691   F  tn\n",
      "0.1   G  tp\n",
      "0.3117   G  tp\n",
      "0.1608   G  tp\n",
      "0.0833   G  tp\n",
      "0.492   G  tp\n",
      "0.376   G  tp\n",
      "0.0142   G  tp\n",
      "0.3208   G  tp\n",
      "0.492   G  tp\n",
      "Summary:\n",
      "true positive 64\n",
      "true negative 6\n",
      "false positive 14\n",
      "false negative 13\n",
      "\n",
      "From p5_Fraud:\n",
      "Summary:\n",
      "true positive 9048\n",
      "true negative 8373\n",
      "false positive 10075\n",
      "false negative 1273\n"
     ]
    }
   ],
   "source": [
    "print(\"From p1_Fraud:\")\n",
    "PrintParams('p1_Fraud', 'CLASS', 1, 100, 1)\n",
    "print(\"\\nFrom p5_Fraud:\")\n",
    "PrintParams('p5_Fraud', 'CLASS', 1, len(df)-1, 0)"
   ]
  },
  {
   "cell_type": "code",
   "execution_count": 68,
   "metadata": {
    "collapsed": true
   },
   "outputs": [],
   "source": [
    "def CalcFP(Prob, Real, First, Last, Border):#false positive probability (fraud: P>=Border)\n",
    "    ProbArray=df[Prob]\n",
    "    TrueArray=df[Real]\n",
    "    All=Last-First+1\n",
    "    FPC=0\n",
    "    i=First\n",
    "    while i<=Last:\n",
    "        if ProbArray[i] >= Border and TrueArray[i] == \"G\":\n",
    "            FPC+=1\n",
    "        i+=1\n",
    "    #print (FPC, \" \", All);\n",
    "    return FPC/All"
   ]
  },
  {
   "cell_type": "code",
   "execution_count": 69,
   "metadata": {
    "collapsed": false
   },
   "outputs": [
    {
     "name": "stdout",
     "output_type": "stream",
     "text": [
      "0.14\n"
     ]
    }
   ],
   "source": [
    "print(CalcFP('p1_Fraud', 'CLASS', 1, 100, 0.5))"
   ]
  },
  {
   "cell_type": "code",
   "execution_count": 106,
   "metadata": {
    "collapsed": true
   },
   "outputs": [],
   "source": [
    "def CalcBorder (Prob, Real, First, Last, MaxFP):#calculate Border (false positive <= MaxFP)\n",
    "    Border=0\n",
    "    Incr=0.1\n",
    "    while CalcFP(Prob, Real, First, Last, Border) > MaxFP:\n",
    "        if Border+Incr == 1:\n",
    "            Incr/=10\n",
    "        Border+=Incr\n",
    "    return Border"
   ]
  },
  {
   "cell_type": "code",
   "execution_count": 108,
   "metadata": {
    "collapsed": false
   },
   "outputs": [
    {
     "name": "stdout",
     "output_type": "stream",
     "text": [
      "0.78\n",
      "0.4\n"
     ]
    }
   ],
   "source": [
    "print(CalcFP('p1_Fraud', 'CLASS', 1, 100, 0))\n",
    "print(CalcBorder('p1_Fraud', 'CLASS', 1, 100, 0.2))#false positive <= 0.2"
   ]
  },
  {
   "cell_type": "code",
   "execution_count": 113,
   "metadata": {
    "collapsed": true
   },
   "outputs": [],
   "source": [
    "def CalcFN(Prob, Real, First, Last, Border):#false negative probability (fraud: P>=Border)\n",
    "    ProbArray=df[Prob]\n",
    "    TrueArray=df[Real]\n",
    "    All=Last-First+1\n",
    "    FNC=0\n",
    "    i=First\n",
    "    while i<=Last:\n",
    "        if ProbArray[i] < Border and TrueArray[i] == \"F\":\n",
    "            FNC+=1\n",
    "        i+=1\n",
    "    #print (FNC, \" \", All);\n",
    "    return FNC/All\n",
    "\n",
    "def CalcTP(Prob, Real, First, Last, Border):#true positive probability (fraud: P>=Border)\n",
    "    ProbArray=df[Prob]\n",
    "    TrueArray=df[Real]\n",
    "    All=Last-First+1\n",
    "    TPC=0\n",
    "    i=First\n",
    "    while i<=Last:\n",
    "        if ProbArray[i] < Border and TrueArray[i] == \"G\":\n",
    "            TPC+=1\n",
    "        i+=1\n",
    "    #print (TPC, \" \", All);\n",
    "    return TPC/All\n",
    "\n",
    "def CalcRecall (Prob, Real, First, Last, Border):#calculate recall\n",
    "    TP = CalcTP(Prob, Real, First, Last, Border)\n",
    "    FN = CalcFN(Prob, Real, First, Last, Border)\n",
    "    Recall = TP/(TP+FN)\n",
    "    return Recall\n",
    "\n",
    "def CalcPrecision (Prob, Real, First, Last, Border):#calculate precision\n",
    "    TP = CalcTP(Prob, Real, First, Last, Border)\n",
    "    FP = CalcFP(Prob, Real, First, Last, Border)\n",
    "    Precision = TP/(TP+FP)\n",
    "    return Precision    "
   ]
  },
  {
   "cell_type": "code",
   "execution_count": 115,
   "metadata": {
    "collapsed": false
   },
   "outputs": [
    {
     "name": "stdout",
     "output_type": "stream",
     "text": [
      "False positive:  0.14\n",
      "False negative:  0.13\n",
      "True positive:  0.64\n",
      "Recall:  0.8311688311688311\n",
      "Precision:  0.8205128205128205\n"
     ]
    }
   ],
   "source": [
    "print(\"False positive: \", CalcFP('p1_Fraud', 'CLASS', 1, 100, 0.5))\n",
    "print(\"False negative: \", CalcFN('p1_Fraud', 'CLASS', 1, 100, 0.5))\n",
    "print(\"True positive: \", CalcTP('p1_Fraud', 'CLASS', 1, 100, 0.5))\n",
    "print(\"Recall: \", CalcRecall('p1_Fraud', 'CLASS', 1, 100, 0.5))\n",
    "print(\"Precision: \", CalcPrecision('p1_Fraud', 'CLASS', 1, 100, 0.5))"
   ]
  },
  {
   "cell_type": "code",
   "execution_count": null,
   "metadata": {
    "collapsed": true
   },
   "outputs": [],
   "source": []
  }
 ],
 "metadata": {
  "kernelspec": {
   "display_name": "Python 3",
   "language": "python",
   "name": "python3"
  },
  "language_info": {
   "codemirror_mode": {
    "name": "ipython",
    "version": 3
   },
   "file_extension": ".py",
   "mimetype": "text/x-python",
   "name": "python",
   "nbconvert_exporter": "python",
   "pygments_lexer": "ipython3",
   "version": "3.6.0"
  }
 },
 "nbformat": 4,
 "nbformat_minor": 2
}
