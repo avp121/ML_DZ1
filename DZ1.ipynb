{
 "cells": [
  {
   "cell_type": "code",
   "execution_count": 11,
   "metadata": {
    "collapsed": false
   },
   "outputs": [],
   "source": [
    "import pandas as pd\n",
    "import numpy as np\n",
    "import scipy as sp\n",
    "import matplotlib.pyplot as plt\n",
    "import random as rnd\n",
    "\n",
    "df = pd.read_csv(\"data.csv\", sep=';', encoding = \"ISO-8859-1\")"
   ]
  },
  {
   "cell_type": "code",
   "execution_count": 12,
   "metadata": {
    "collapsed": true
   },
   "outputs": [],
   "source": [
    "#Functions\n",
    "def Min (a, b):\n",
    "    if a < b:\n",
    "        return a\n",
    "    else:\n",
    "        return b\n",
    "    \n",
    "def Max (a, b):\n",
    "    if a > b:\n",
    "        return a\n",
    "    else:\n",
    "        return b\n",
    "\n",
    "def Abs (a, b):\n",
    "    if a > b:\n",
    "        return a - b\n",
    "    else:\n",
    "        return b - a"
   ]
  },
  {
   "cell_type": "code",
   "execution_count": 13,
   "metadata": {
    "collapsed": false
   },
   "outputs": [],
   "source": [
    "#Task1\n",
    "def DrawPoints(coord1, coord2, First, Last):\n",
    "    #plt.figure()\n",
    "    plt.grid(True)\n",
    "    X=df[coord1]\n",
    "    Y=df[coord2]\n",
    "    i=First\n",
    "    #print (len(df))\n",
    "    #while i<=100:\n",
    "    #while i<=len(df):\n",
    "    while i <= Last:\n",
    "        plt.scatter(df[coord1][i], df[coord2][i], color=\"blue\")\n",
    "        i+=1\n",
    "    plt.show()"
   ]
  },
  {
   "cell_type": "code",
   "execution_count": 14,
   "metadata": {
    "collapsed": false
   },
   "outputs": [
    {
     "data": {
      "image/png": "[encoded data removed]",
      "text/plain": [
       "<matplotlib.figure.Figure at 0xa347a58>"
      ]
     },
     "metadata": {},
     "output_type": "display_data"
    },
    {
     "name": "stdout",
     "output_type": "stream",
     "text": [
      "done\n"
     ]
    }
   ],
   "source": [
    "#DrawPoint('X13', 'X14')\n",
    "DrawPoints('X13', 'X14', 1, 100)#just testing\n",
    "print (\"done\")"
   ]
  },
  {
   "cell_type": "code",
   "execution_count": 15,
   "metadata": {
    "collapsed": false
   },
   "outputs": [],
   "source": [
    "#Task2\n",
    "def PrintParams(ProbArray, TrueArray, NeedPrint):\n",
    "    i=0\n",
    "    tn = 0\n",
    "    tp = 0\n",
    "    fn = 0\n",
    "    fp = 0\n",
    "    un = 0\n",
    "    #print()\n",
    "    while i < Min(len(ProbArray), len(TrueArray)):\n",
    "        if ProbArray[i] >= 0.5:\n",
    "            if TrueArray[i] == \"F\":\n",
    "                tn+=1\n",
    "                if NeedPrint != 0: \n",
    "                    print (ProbArray[i], \"\\t\", TrueArray[i], \"tn\")#true negative\n",
    "            if TrueArray[i] == \"G\":\n",
    "                fp+=1\n",
    "                if NeedPrint != 0: \n",
    "                    print (ProbArray[i], \"\\t\", TrueArray[i], \"  fp\")#false positive\n",
    "        else:\n",
    "            if TrueArray[i] == \"F\":\n",
    "                fn+=1\n",
    "                if NeedPrint != 0: \n",
    "                    print (ProbArray[i], \"\\t\", TrueArray[i], \"  fn\")#false negative\n",
    "            if TrueArray[i] == \"G\":\n",
    "                tp+=1\n",
    "                if NeedPrint != 0: \n",
    "                    print (ProbArray[i], \"\\t\", TrueArray[i], \"  tp\")#true positive\n",
    "        if TrueArray[i] == \"U\":\n",
    "            un+=1\n",
    "            if NeedPrint != 0: \n",
    "                print (ProbArray[i], \"\\t\", TrueArray[i], \"  un\")#unable to classify\n",
    "        i+=1\n",
    "    print(\"Summary:\")\n",
    "    print (\"true positive:\", tp)\n",
    "    print (\"true negative:\", tn)\n",
    "    print (\"false positive:\", fp)\n",
    "    print (\"false negative:\", fn)\n",
    "    print (\"unable to classify:\", un)\n",
    "    "
   ]
  },
  {
   "cell_type": "code",
   "execution_count": 16,
   "metadata": {
    "collapsed": false
   },
   "outputs": [
    {
     "name": "stdout",
     "output_type": "stream",
     "text": [
      "From p1_Fraud:\n",
      "0.2608 \t G   tp\n",
      "0.1233 \t G   tp\n",
      "0.0433 \t G   tp\n",
      "0.28 \t G   tp\n",
      "0.3117 \t G   tp\n",
      "0.1758 \t G   tp\n",
      "0.345 \t F   fn\n",
      "0.1242 \t G   tp\n",
      "0.0642 \t G   tp\n",
      "0.0758 \t G   tp\n",
      "0.0733 \t G   tp\n",
      "0.275 \t G   tp\n",
      "0.0542 \t G   tp\n",
      "0.0717 \t G   tp\n",
      "0.085 \t G   tp\n",
      "0.306 \t F   fn\n",
      "0.163 \t F   fn\n",
      "0.391 \t F   fn\n",
      "0.01 \t G   tp\n",
      "0.0333 \t G   tp\n",
      "0.473 \t G   tp\n",
      "0.3675 \t F   fn\n",
      "0.575 \t G   fp\n",
      "0.641 \t G   fp\n",
      "0.641 \t G   fp\n",
      "0.065 \t G   tp\n",
      "0.0642 \t G   tp\n",
      "0.185 \t F   fn\n",
      "0.614 \t G   fp\n",
      "0.0242 \t G   tp\n",
      "0.075 \t G   tp\n",
      "0.36 \t G   tp\n",
      "0.3442 \t G   tp\n",
      "0.32 \t G   tp\n",
      "0.277 \t F   fn\n",
      "0.135 \t G   tp\n",
      "0.0308 \t G   tp\n",
      "0.0317 \t G   tp\n",
      "0.0992 \t F   fn\n",
      "0.456 \t F   fn\n",
      "0.1683 \t G   tp\n",
      "0.0092 \t G   tp\n",
      "0.0542 \t G   tp\n",
      "0.659 \t F tn\n",
      "0.2917 \t G   tp\n",
      "0.0683 \t G   tp\n",
      "0.686 \t F tn\n",
      "0.1617 \t G   tp\n",
      "0.2825 \t G   tp\n",
      "0.695 \t F tn\n",
      "0.38 \t G   tp\n",
      "0.0492 \t G   tp\n",
      "0.395 \t G   tp\n",
      "0.649 \t G   fp\n",
      "0.474 \t F   fn\n",
      "0.21 \t G   tp\n",
      "0.691 \t F tn\n",
      "0.29 \t G   tp\n",
      "0.065 \t G   tp\n",
      "0.0717 \t G   tp\n",
      "0.695 \t F tn\n",
      "0.2967 \t G   tp\n",
      "0.22 \t F   fn\n",
      "0.678 \t G   fp\n",
      "0.603 \t G   fp\n",
      "0.667 \t G   fp\n",
      "0.0942 \t G   tp\n",
      "0.1008 \t G   tp\n",
      "0.344 \t U   un\n",
      "0.065 \t G   tp\n",
      "0.3783 \t G   tp\n",
      "0.387 \t U   un\n",
      "0.691 \t G   fp\n",
      "0.528 \t U   un\n",
      "0.0075 \t G   tp\n",
      "0.585 \t G   fp\n",
      "0.691 \t G   fp\n",
      "0.1642 \t G   tp\n",
      "0.0875 \t G   tp\n",
      "0.2475 \t G   tp\n",
      "0.692 \t G   fp\n",
      "0.0717 \t G   tp\n",
      "0.215 \t G   tp\n",
      "0.693 \t G   fp\n",
      "0.691 \t G   fp\n",
      "0.389 \t F   fn\n",
      "0.0517 \t G   tp\n",
      "0.462 \t F   fn\n",
      "0.1717 \t G   tp\n",
      "0.0275 \t G   tp\n",
      "0.0425 \t G   tp\n",
      "0.691 \t F tn\n",
      "0.1 \t G   tp\n",
      "0.3117 \t G   tp\n",
      "0.1608 \t G   tp\n",
      "0.0833 \t G   tp\n",
      "0.492 \t G   tp\n",
      "0.376 \t G   tp\n",
      "0.0142 \t G   tp\n",
      "0.3208 \t G   tp\n",
      "Summary:\n",
      "true positive: 64\n",
      "true negative: 6\n",
      "false positive: 14\n",
      "false negative: 13\n",
      "unable to classify: 3\n",
      "\n",
      "From p5_Fraud:\n",
      "Summary:\n",
      "true positive: 9049\n",
      "true negative: 8373\n",
      "false positive: 10075\n",
      "false negative: 1273\n",
      "unable to classify: 534\n"
     ]
    }
   ],
   "source": [
    "print(\"From p1_Fraud:\")\n",
    "PrintParams(df['p1_Fraud'][:100], df['CLASS'][:100], 1)\n",
    "print(\"\\nFrom p5_Fraud:\")\n",
    "PrintParams(df['p5_Fraud'], df['CLASS'], 0)"
   ]
  },
  {
   "cell_type": "code",
   "execution_count": 17,
   "metadata": {
    "collapsed": true
   },
   "outputs": [],
   "source": [
    "def CalcFP(ProbArray, TrueArray, Border):#false positive probability (fraud: P>=Border)\n",
    "    All=Min(len(ProbArray), len(TrueArray))\n",
    "    FPC=0\n",
    "    i=1\n",
    "    while i < All:\n",
    "        if ProbArray[i] >= Border and TrueArray[i] == \"G\":\n",
    "            FPC+=1\n",
    "        i+=1\n",
    "    return FPC/All\n",
    "\n",
    "def CalcFN(ProbArray, TrueArray, Border):#false positive probability (fraud: P>=Border)\n",
    "    All=Min(len(ProbArray), len(TrueArray))\n",
    "    FNC=0\n",
    "    i=1\n",
    "    while i < All:\n",
    "        if ProbArray[i] < Border and TrueArray[i] == \"F\":\n",
    "            FNC+=1\n",
    "        i+=1\n",
    "    return FNC/All\n",
    "\n",
    "def CalcTP(ProbArray, TrueArray, Border):#false positive probability (fraud: P>=Border)\n",
    "    All=Min(len(ProbArray), len(TrueArray))\n",
    "    TPC=0\n",
    "    i=1\n",
    "    while i < All:\n",
    "        if ProbArray[i] < Border and TrueArray[i] == \"G\":\n",
    "            TPC+=1\n",
    "        i+=1\n",
    "    return TPC/All\n",
    "\n",
    "def CalcTN(ProbArray, TrueArray, Border):#false positive probability (fraud: P>=Border)\n",
    "    All=Min(len(ProbArray), len(TrueArray))\n",
    "    TNC=0\n",
    "    i=1\n",
    "    while i < All:\n",
    "        if ProbArray[i] >= Border and TrueArray[i] == \"F\":\n",
    "            TNC+=1\n",
    "        i+=1\n",
    "    return TNC/All\n",
    "\n",
    "def CalcBorder (ProbArray, TrueArray, MaxFP):#calculate Border (false positive <= MaxFP)\n",
    "    Border=0\n",
    "    Incr=0.1\n",
    "    while CalcFP(ProbArray, TrueArray, Border) > MaxFP:\n",
    "        if Border+Incr == 1:\n",
    "            Incr/=10\n",
    "        Border+=Incr\n",
    "    return Border\n",
    "\n",
    "def CalcRecall (ProbArray, TrueArray, Border):#calculate recall\n",
    "    TP = CalcTP(ProbArray, TrueArray, Border)\n",
    "    FN = CalcFN(ProbArray, TrueArray, Border)\n",
    "    Recall = TP/(TP+FN)\n",
    "    return Recall\n",
    "\n",
    "def CalcPrecision (ProbArray, TrueArray, Border):#calculate precision\n",
    "    TP = CalcTP(ProbArray, TrueArray, Border)\n",
    "    FP = CalcFP(ProbArray, TrueArray, Border)\n",
    "    Precision = TP/(TP+FP)\n",
    "    return Precision    "
   ]
  },
  {
   "cell_type": "code",
   "execution_count": 18,
   "metadata": {
    "collapsed": false
   },
   "outputs": [
    {
     "name": "stdout",
     "output_type": "stream",
     "text": [
      "0.14\n"
     ]
    }
   ],
   "source": [
    "print(CalcFP(df['p1_Fraud'][:100], df['CLASS'][:100], 0.5))"
   ]
  },
  {
   "cell_type": "code",
   "execution_count": 19,
   "metadata": {
    "collapsed": false
   },
   "outputs": [
    {
     "name": "stdout",
     "output_type": "stream",
     "text": [
      "0.77\n",
      "0.4\n"
     ]
    }
   ],
   "source": [
    "print(CalcFP(df['p1_Fraud'][:100], df['CLASS'][:100], 0))\n",
    "print(CalcBorder(df['p1_Fraud'][:100], df['CLASS'][:100], 0.2))#false positive <= 0.2"
   ]
  },
  {
   "cell_type": "code",
   "execution_count": 20,
   "metadata": {
    "collapsed": false
   },
   "outputs": [
    {
     "name": "stdout",
     "output_type": "stream",
     "text": [
      "False positive:  0.14\n",
      "False negative:  0.13\n",
      "True positive:  0.63\n",
      "Recall:  0.8289473684210527\n",
      "Precision:  0.8181818181818181\n"
     ]
    }
   ],
   "source": [
    "print(\"False positive: \", CalcFP(df['p1_Fraud'][:100], df['CLASS'][:100], 0.5))\n",
    "print(\"False negative: \", CalcFN(df['p1_Fraud'][:100], df['CLASS'][:100], 0.5))\n",
    "print(\"True positive: \", CalcTP(df['p1_Fraud'][:100], df['CLASS'][:100], 0.5))\n",
    "print(\"Recall: \", CalcRecall(df['p1_Fraud'][:100], df['CLASS'][:100], 0.5))\n",
    "print(\"Precision: \", CalcPrecision(df['p1_Fraud'][:100], df['CLASS'][:100], 0.5))"
   ]
  },
  {
   "cell_type": "code",
   "execution_count": 21,
   "metadata": {
    "collapsed": false
   },
   "outputs": [],
   "source": [
    "#Task3\n",
    "\"\"\"\n",
    "def CalcTPR (ProbArray, TrueArray, Border):\n",
    "    TP=CalcTP(ProbArray, TrueArray, Border)\n",
    "    FN=CalcFN(ProbArray, TrueArray, Border)\n",
    "    #return TP/(TP+FN)#ERROR: division by zero\n",
    "    if TP+FN!=0:\n",
    "        TPR=TP/(TP+FN)\n",
    "        return TPR\n",
    "    else:\n",
    "        #print (TP, \"<TPR>\", FN, \" \", Border)\n",
    "        return 1\n",
    "\n",
    "def CalcFPR (ProbArray, TrueArray, Border):\n",
    "    FP=CalcFP(ProbArray, TrueArray, Border)\n",
    "    TN=CalcTN(ProbArray, TrueArray, Border)\n",
    "    #return FP/(FP+TN)#ERROR: division by zero\n",
    "    if FP+TN!=0:\n",
    "        FPR=FP/(FP+TN)\n",
    "        return FPR\n",
    "    else:\n",
    "        #print (FP, \"<FPR>\", TN, \" \", Border)\n",
    "        return 1\n",
    "\"\"\"\n",
    "def CalcTPR (ProbArray, TrueArray, Border):\n",
    "    All=Min(len(ProbArray), len(TrueArray))\n",
    "    TP=CalcTP(ProbArray, TrueArray, Border)*All\n",
    "    FN=CalcFN(ProbArray, TrueArray, Border)*All\n",
    "    #return TP/(TP+FN)#ERROR: division by zero\n",
    "    if TP+FN!=0:\n",
    "        TPR=TP/(TP+FN)\n",
    "        return TPR\n",
    "    else:\n",
    "        #print (TP, \"<TPR>\", FN, \" \", Border)\n",
    "        return 0\n",
    "\n",
    "def CalcFPR (ProbArray, TrueArray, Border):\n",
    "    FP=CalcFP(ProbArray, TrueArray, Border)*All\n",
    "    TN=CalcTN(ProbArray, TrueArray, Border)*All\n",
    "    #return FP/(FP+TN)#ERROR: division by zero\n",
    "    if FP+TN!=0:\n",
    "        FPR=FP/(FP+TN)\n",
    "        return FPR\n",
    "    else:\n",
    "        #print (FP, \"<FPR>\", TN, \" \", Border)\n",
    "        return 0\n",
    "\n",
    "#ATTENTION! ERRORS!\n",
    "def ROC_And_Gini (ProbArray, TrueArray, Step, Print):#Draw ROC (Print=1) and calc Gini\n",
    "    plt.figure()\n",
    "    plt.grid(True)\n",
    "    Gini=0\n",
    "    X=[]\n",
    "    Y=[]\n",
    "    MX=0\n",
    "    MY=0\n",
    "    Counter=0\n",
    "    Border=1\n",
    "    while Border >= 0:\n",
    "        #print (CalcFP(Prob, Real, First, Last, Border), \" \", CalcTP(Prob, Real, First, Last, Border))\n",
    "        #X.insert(Counter, CalcFP(Prob, Real, First, Last, Border))\n",
    "        #Y.insert(Counter, CalcTP(Prob, Real, First, Last, Border))\n",
    "        X.insert(Counter, CalcFPR(ProbArray, TrueArray, Border))\n",
    "        Y.insert(Counter, CalcTPR(ProbArray, TrueArray, Border))\n",
    "        MX=Max(MX, X[Counter])\n",
    "        MY=Max(MY, Y[Counter])\n",
    "        Gini=Max(Gini, Abs(X[Counter], Y[Counter]))\n",
    "        #print(Border)\n",
    "        #if Border <= 0.2:\n",
    "            #print(X[Counter],\" \", Y[Counter])\n",
    "        if Counter > 0 and Print == 1:\n",
    "            plt.plot([X[Counter-1], X[Counter]], [Y[Counter-1], Y[Counter]], 'b-')#ROC\n",
    "        Counter+=1\n",
    "        if Border > 0 and Border - Step < 0:\n",
    "            Border = 0\n",
    "        else:\n",
    "            Border-=Step\n",
    "    \n",
    "    if Print == 1:\n",
    "        plt.plot([0, MX], [0, MY], 'g:')\n",
    "        plt.show()\n",
    "    return Gini"
   ]
  },
  {
   "cell_type": "code",
   "execution_count": 22,
   "metadata": {
    "collapsed": false
   },
   "outputs": [
    {
     "data": {
      "image/png": "[encoded data removed]",
      "text/plain": [
       "<matplotlib.figure.Figure at 0xaa4d630>"
      ]
     },
     "metadata": {},
     "output_type": "display_data"
    },
    {
     "name": "stdout",
     "output_type": "stream",
     "text": [
      "Gini =  0.3352914595571622\n"
     ]
    }
   ],
   "source": [
    "print (\"Gini = \", ROC_And_Gini(df['p1_Fraud'], df['CLASS'], 0.1, 1));#Wrong graph"
   ]
  },
  {
   "cell_type": "code",
   "execution_count": 31,
   "metadata": {
    "collapsed": true
   },
   "outputs": [],
   "source": [
    "#Task4\n",
    "\n",
    "def GroupProb1 (Arr1, Arr2, Arr3):\n",
    "    Group=[]\n",
    "    i=0\n",
    "    Length=Min(Min(len(Arr1), len(Arr2)), len(Arr3))\n",
    "    while i < Length:\n",
    "        Group.insert(i, (Arr1[i]+Arr2[i]+Arr3[i])/3)\n",
    "        i+=1\n",
    "    return Group"
   ]
  },
  {
   "cell_type": "code",
   "execution_count": 33,
   "metadata": {
    "collapsed": false
   },
   "outputs": [
    {
     "data": {
      "image/png": "[encoded data removed]",
      "text/plain": [
       "<matplotlib.figure.Figure at 0xab88ba8>"
      ]
     },
     "metadata": {},
     "output_type": "display_data"
    },
    {
     "data": {
      "text/plain": [
       "0.7853065582522278"
      ]
     },
     "execution_count": 33,
     "metadata": {},
     "output_type": "execute_result"
    }
   ],
   "source": [
    "Group=GroupProb1 (df['p1_Fraud'], df['p2_Fraud'], df['p3_Fraud'])\n",
    "ROC_And_Gini(Group, df['CLASS'], 0.1, 1)#Wrong graph"
   ]
  },
  {
   "cell_type": "code",
   "execution_count": 24,
   "metadata": {
    "collapsed": true
   },
   "outputs": [],
   "source": [
    "#Task5\n",
    "def GroupProb1 (Arr1, Arr2, Arr3, A, B, C):\n",
    "    Group=[]\n",
    "    i=0\n",
    "    Length=Min(Min(len(Arr1), len(Arr2)), len(Arr3))\n",
    "    while i < Length:\n",
    "        Group.insert(i, (Arr1[i]+Arr2[i]+Arr3[i])/3)\n",
    "        i+=1\n",
    "    return Group"
   ]
  },
  {
   "cell_type": "code",
   "execution_count": 25,
   "metadata": {
    "collapsed": true
   },
   "outputs": [],
   "source": [
    "#Task6"
   ]
  },
  {
   "cell_type": "code",
   "execution_count": 26,
   "metadata": {
    "collapsed": false
   },
   "outputs": [],
   "source": [
    "#Task7\n",
    "def CallCenter (ProbArray, TrueArray, Border):\n",
    "    Delta=0\n",
    "    RND=0\n",
    "    i=0\n",
    "    while i < Min(len(ProbArray), len(TrueArray)):\n",
    "        if ProbArray[i] >= Border:\n",
    "            RND=rnd.random()\n",
    "            #print (RND)\n",
    "            if RND <= 0.9:\n",
    "                Delta+=400\n",
    "                if TrueArray[i] == \"G\":\n",
    "                    Delta-=2000\n",
    "        i+=1\n",
    "\n",
    "    if Delta < 0:\n",
    "        print (\"Bank lost\", -1*Delta, \"credits\")\n",
    "    else:\n",
    "        print (\"Bank recieved\", Delta, \"credits\")"
   ]
  },
  {
   "cell_type": "code",
   "execution_count": 27,
   "metadata": {
    "collapsed": false
   },
   "outputs": [
    {
     "name": "stdout",
     "output_type": "stream",
     "text": [
      "Bank recieved 0 credits\n",
      "Bank lost 2800 credits\n",
      "Bank lost 7222400 credits\n",
      "Bank lost 7378000 credits\n",
      "Bank recieved 2483600 credits\n",
      "Bank lost 694400 credits\n",
      "Bank lost 9131200 credits\n"
     ]
    }
   ],
   "source": [
    "CallCenter (df['p1_Fraud'], df['CLASS'], 0.75)\n",
    "CallCenter (df['p1_Fraud'], df['CLASS'], 0.7)\n",
    "CallCenter (df['p1_Fraud'], df['CLASS'], 0.65)\n",
    "CallCenter (df['p2_Fraud'], df['CLASS'], 0.7)\n",
    "CallCenter (df['p3_Fraud'], df['CLASS'], 0.7)\n",
    "CallCenter (df['p4_Fraud'], df['CLASS'], 0.7)\n",
    "CallCenter (df['p5_Fraud'], df['CLASS'], 0.7)"
   ]
  },
  {
   "cell_type": "code",
   "execution_count": 28,
   "metadata": {
    "collapsed": true
   },
   "outputs": [],
   "source": [
    "#Task8"
   ]
  },
  {
   "cell_type": "code",
   "execution_count": null,
   "metadata": {
    "collapsed": true
   },
   "outputs": [],
   "source": []
  }
 ],
 "metadata": {
  "kernelspec": {
   "display_name": "Python 3",
   "language": "python",
   "name": "python3"
  },
  "language_info": {
   "codemirror_mode": {
    "name": "ipython",
    "version": 3
   },
   "file_extension": ".py",
   "mimetype": "text/x-python",
   "name": "python",
   "nbconvert_exporter": "python",
   "pygments_lexer": "ipython3",
   "version": "3.6.0"
  }
 },
 "nbformat": 4,
 "nbformat_minor": 2
}
