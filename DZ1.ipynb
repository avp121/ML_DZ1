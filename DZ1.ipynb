{
 "cells": [
  {
   "cell_type": "code",
   "execution_count": 1,
   "metadata": {
    "collapsed": false
   },
   "outputs": [],
   "source": [
    "import pandas as pd\n",
    "import numpy as np\n",
    "import scipy as sp\n",
    "import matplotlib.pyplot as plt\n",
    "import random as rnd\n",
    "\n",
    "df = pd.read_csv(\"data.csv\", sep=';', encoding = \"ISO-8859-1\")"
   ]
  },
  {
   "cell_type": "code",
   "execution_count": 3,
   "metadata": {
    "collapsed": false
   },
   "outputs": [],
   "source": [
    "#Task1\n",
    "def DrawPoints(coord1, coord2, First, Last):\n",
    "    plt.figure()\n",
    "    plt.grid(True)\n",
    "    X=df[coord1]\n",
    "    Y=df[coord2]\n",
    "    i=First\n",
    "    while i <= Last:\n",
    "        plt.scatter(df[coord1][i], df[coord2][i], color=\"blue\")\n",
    "        i+=1\n",
    "    plt.show()"
   ]
  },
  {
   "cell_type": "code",
   "execution_count": 4,
   "metadata": {
    "collapsed": false
   },
   "outputs": [
    {
     "data": {
      "image/png": "[encoded data removed]",
      "text/plain": [
       "<matplotlib.figure.Figure at 0x985d358>"
      ]
     },
     "metadata": {},
     "output_type": "display_data"
    },
    {
     "name": "stdout",
     "output_type": "stream",
     "text": [
      "done\n"
     ]
    }
   ],
   "source": [
    "#DrawPoint('X13', 'X14')\n",
    "DrawPoints('X13', 'X14', 1, 100)#just testing\n",
    "print (\"done\")"
   ]
  },
  {
   "cell_type": "code",
   "execution_count": 5,
   "metadata": {
    "collapsed": false
   },
   "outputs": [],
   "source": [
    "#Task2\n",
    "def PrintParams(ProbArray, TrueArray, NeedPrint):\n",
    "    i=0\n",
    "    tn = 0\n",
    "    tp = 0\n",
    "    fn = 0\n",
    "    fp = 0\n",
    "    un = 0\n",
    "    while i < min(len(ProbArray), len(TrueArray)):\n",
    "        if ProbArray[i] >= 0.5:\n",
    "            if TrueArray[i] == \"F\":\n",
    "                tp+=1\n",
    "                if NeedPrint != 0: \n",
    "                    print (ProbArray[i], \"\\t\", TrueArray[i], \"  tp\")#true positive\n",
    "            if TrueArray[i] == \"G\":\n",
    "                fp+=1\n",
    "                if NeedPrint != 0: \n",
    "                    print (ProbArray[i], \"\\t\", TrueArray[i], \"  fp\")#false positive\n",
    "        else:\n",
    "            if TrueArray[i] == \"F\":\n",
    "                fn+=1\n",
    "                if NeedPrint != 0: \n",
    "                    print (ProbArray[i], \"\\t\", TrueArray[i], \"  fn\")#false negative\n",
    "            if TrueArray[i] == \"G\":\n",
    "                tn+=1\n",
    "                if NeedPrint != 0: \n",
    "                    print (ProbArray[i], \"\\t\", TrueArray[i], \"tn\")#true negative\n",
    "        if TrueArray[i] == \"U\":\n",
    "            un+=1\n",
    "            if NeedPrint != 0: \n",
    "                print (ProbArray[i], \"\\t\", TrueArray[i], \"  un\")#unable to classify\n",
    "        i+=1\n",
    "    print(\"Summary:\")\n",
    "    print (\"true positive:\", tp)\n",
    "    print (\"true negative:\", tn)\n",
    "    print (\"false positive:\", fp)\n",
    "    print (\"false negative:\", fn)\n",
    "    print (\"unable to classify:\", un)\n",
    "    "
   ]
  },
  {
   "cell_type": "code",
   "execution_count": 6,
   "metadata": {
    "collapsed": false
   },
   "outputs": [
    {
     "name": "stdout",
     "output_type": "stream",
     "text": [
      "From p1_Fraud:\n",
      "0.2608 \t G tn\n",
      "0.1233 \t G tn\n",
      "0.0433 \t G tn\n",
      "0.28 \t G tn\n",
      "0.3117 \t G tn\n",
      "0.1758 \t G tn\n",
      "0.345 \t F   fn\n",
      "0.1242 \t G tn\n",
      "0.0642 \t G tn\n",
      "0.0758 \t G tn\n",
      "0.0733 \t G tn\n",
      "0.275 \t G tn\n",
      "0.0542 \t G tn\n",
      "0.0717 \t G tn\n",
      "0.085 \t G tn\n",
      "0.306 \t F   fn\n",
      "0.163 \t F   fn\n",
      "0.391 \t F   fn\n",
      "0.01 \t G tn\n",
      "0.0333 \t G tn\n",
      "0.473 \t G tn\n",
      "0.3675 \t F   fn\n",
      "0.575 \t G   fp\n",
      "0.641 \t G   fp\n",
      "0.641 \t G   fp\n",
      "0.065 \t G tn\n",
      "0.0642 \t G tn\n",
      "0.185 \t F   fn\n",
      "0.614 \t G   fp\n",
      "0.0242 \t G tn\n",
      "0.075 \t G tn\n",
      "0.36 \t G tn\n",
      "0.3442 \t G tn\n",
      "0.32 \t G tn\n",
      "0.277 \t F   fn\n",
      "0.135 \t G tn\n",
      "0.0308 \t G tn\n",
      "0.0317 \t G tn\n",
      "0.0992 \t F   fn\n",
      "0.456 \t F   fn\n",
      "0.1683 \t G tn\n",
      "0.0092 \t G tn\n",
      "0.0542 \t G tn\n",
      "0.659 \t F   tp\n",
      "0.2917 \t G tn\n",
      "0.0683 \t G tn\n",
      "0.686 \t F   tp\n",
      "0.1617 \t G tn\n",
      "0.2825 \t G tn\n",
      "0.695 \t F   tp\n",
      "0.38 \t G tn\n",
      "0.0492 \t G tn\n",
      "0.395 \t G tn\n",
      "0.649 \t G   fp\n",
      "0.474 \t F   fn\n",
      "0.21 \t G tn\n",
      "0.691 \t F   tp\n",
      "0.29 \t G tn\n",
      "0.065 \t G tn\n",
      "0.0717 \t G tn\n",
      "0.695 \t F   tp\n",
      "0.2967 \t G tn\n",
      "0.22 \t F   fn\n",
      "0.678 \t G   fp\n",
      "0.603 \t G   fp\n",
      "0.667 \t G   fp\n",
      "0.0942 \t G tn\n",
      "0.1008 \t G tn\n",
      "0.344 \t U   un\n",
      "0.065 \t G tn\n",
      "0.3783 \t G tn\n",
      "0.387 \t U   un\n",
      "0.691 \t G   fp\n",
      "0.528 \t U   un\n",
      "0.0075 \t G tn\n",
      "0.585 \t G   fp\n",
      "0.691 \t G   fp\n",
      "0.1642 \t G tn\n",
      "0.0875 \t G tn\n",
      "0.2475 \t G tn\n",
      "0.692 \t G   fp\n",
      "0.0717 \t G tn\n",
      "0.215 \t G tn\n",
      "0.693 \t G   fp\n",
      "0.691 \t G   fp\n",
      "0.389 \t F   fn\n",
      "0.0517 \t G tn\n",
      "0.462 \t F   fn\n",
      "0.1717 \t G tn\n",
      "0.0275 \t G tn\n",
      "0.0425 \t G tn\n",
      "0.691 \t F   tp\n",
      "0.1 \t G tn\n",
      "0.3117 \t G tn\n",
      "0.1608 \t G tn\n",
      "0.0833 \t G tn\n",
      "0.492 \t G tn\n",
      "0.376 \t G tn\n",
      "0.0142 \t G tn\n",
      "0.3208 \t G tn\n",
      "Summary:\n",
      "true positive: 6\n",
      "true negative: 64\n",
      "false positive: 14\n",
      "false negative: 13\n",
      "unable to classify: 3\n",
      "\n",
      "From p5_Fraud:\n",
      "Summary:\n",
      "true positive: 8373\n",
      "true negative: 9049\n",
      "false positive: 10075\n",
      "false negative: 1273\n",
      "unable to classify: 534\n"
     ]
    }
   ],
   "source": [
    "print(\"From p1_Fraud:\")\n",
    "PrintParams(df['p1_Fraud'][:100], df['CLASS'][:100], 1)\n",
    "print(\"\\nFrom p5_Fraud:\")\n",
    "PrintParams(df['p5_Fraud'], df['CLASS'], 0)"
   ]
  },
  {
   "cell_type": "code",
   "execution_count": 7,
   "metadata": {
    "collapsed": true
   },
   "outputs": [],
   "source": [
    "def CalcFP(ProbArray, TrueArray, Border):#false positive probability (fraud: P>=Border)\n",
    "    All=min(len(ProbArray), len(TrueArray))\n",
    "    FPC=0\n",
    "    i=1\n",
    "    while i < min(len(ProbArray), len(TrueArray)):\n",
    "        if ProbArray[i] >= Border and TrueArray[i] == \"G\":\n",
    "            FPC+=1\n",
    "        i+=1\n",
    "    return FPC/All\n",
    "\n",
    "def CalcFN(ProbArray, TrueArray, Border):#false negative probability (fraud: P>=Border)\n",
    "    All=min(len(ProbArray), len(TrueArray))\n",
    "    FNC=0\n",
    "    i=1\n",
    "    while i < min(len(ProbArray), len(TrueArray)):\n",
    "        if ProbArray[i] < Border and TrueArray[i] == \"F\":\n",
    "            FNC+=1\n",
    "        i+=1\n",
    "    return FNC/All\n",
    "\n",
    "def CalcTP(ProbArray, TrueArray, Border):#true positive probability (fraud: P>=Border)\n",
    "    All=min(len(ProbArray), len(TrueArray))\n",
    "    TPC=0\n",
    "    i=1\n",
    "    while i < min(len(ProbArray), len(TrueArray)):\n",
    "        if ProbArray[i] >= Border and TrueArray[i] == \"F\":\n",
    "            TPC+=1\n",
    "        i+=1\n",
    "    return TPC/All\n",
    "\n",
    "def CalcTN(ProbArray, TrueArray, Border):#true negative probability (fraud: P>=Border)\n",
    "    All=min(len(ProbArray), len(TrueArray))\n",
    "    TNC=0\n",
    "    i=1\n",
    "    while i < min(len(ProbArray), len(TrueArray)):\n",
    "        if ProbArray[i] < Border and TrueArray[i] == \"G\":\n",
    "            TNC+=1\n",
    "        i+=1\n",
    "    return TNC/All\n",
    "\n",
    "def CalcBorder (ProbArray, TrueArray, MaxFP):#calculate Border (false positive <= MaxFP)\n",
    "    Border=0\n",
    "    Incr=0.1\n",
    "    while CalcFP(ProbArray, TrueArray, Border) > MaxFP:\n",
    "        if Border+Incr == 1:\n",
    "            Incr/=10\n",
    "        Border+=Incr\n",
    "    return Border\n",
    "\n",
    "def CalcRecall (ProbArray, TrueArray, Border):#calculate recall\n",
    "    TP = CalcTP(ProbArray, TrueArray, Border)\n",
    "    FN = CalcFN(ProbArray, TrueArray, Border)\n",
    "    Recall = TP/(TP+FN)\n",
    "    return Recall\n",
    "\n",
    "def CalcPrecision (ProbArray, TrueArray, Border):#calculate precision\n",
    "    TP = CalcTP(ProbArray, TrueArray, Border)\n",
    "    FP = CalcFP(ProbArray, TrueArray, Border)\n",
    "    Precision = TP/(TP+FP)\n",
    "    return Precision    "
   ]
  },
  {
   "cell_type": "code",
   "execution_count": 8,
   "metadata": {
    "collapsed": false
   },
   "outputs": [
    {
     "name": "stdout",
     "output_type": "stream",
     "text": [
      "0.14\n"
     ]
    }
   ],
   "source": [
    "print(CalcFP(df['p1_Fraud'][:100], df['CLASS'][:100], 0.5))"
   ]
  },
  {
   "cell_type": "code",
   "execution_count": 9,
   "metadata": {
    "collapsed": false
   },
   "outputs": [
    {
     "name": "stdout",
     "output_type": "stream",
     "text": [
      "0.77\n",
      "0.4\n"
     ]
    }
   ],
   "source": [
    "print(CalcFP(df['p1_Fraud'][:100], df['CLASS'][:100], 0))\n",
    "print(CalcBorder(df['p1_Fraud'][:100], df['CLASS'][:100], 0.2))#false positive <= 0.2"
   ]
  },
  {
   "cell_type": "code",
   "execution_count": 10,
   "metadata": {
    "collapsed": false
   },
   "outputs": [
    {
     "name": "stdout",
     "output_type": "stream",
     "text": [
      "False positive:  0.14\n",
      "False negative:  0.13\n",
      "True positive:  0.06\n",
      "Recall:  0.3157894736842105\n",
      "Precision:  0.3\n"
     ]
    }
   ],
   "source": [
    "print(\"False positive: \", CalcFP(df['p1_Fraud'][:100], df['CLASS'][:100], 0.5))\n",
    "print(\"False negative: \", CalcFN(df['p1_Fraud'][:100], df['CLASS'][:100], 0.5))\n",
    "print(\"True positive: \", CalcTP(df['p1_Fraud'][:100], df['CLASS'][:100], 0.5))\n",
    "print(\"Recall: \", CalcRecall(df['p1_Fraud'][:100], df['CLASS'][:100], 0.5))\n",
    "print(\"Precision: \", CalcPrecision(df['p1_Fraud'][:100], df['CLASS'][:100], 0.5))"
   ]
  },
  {
   "cell_type": "code",
   "execution_count": 17,
   "metadata": {
    "collapsed": false
   },
   "outputs": [],
   "source": [
    "#Task3\n",
    "def CalcTPR (ProbArray, TrueArray, Border):\n",
    "    TP=CalcTP(ProbArray, TrueArray, Border)\n",
    "    FN=CalcFN(ProbArray, TrueArray, Border)\n",
    "    if TP+FN!=0:\n",
    "        TPR=TP/(TP+FN)\n",
    "        return TPR\n",
    "    else:\n",
    "        return 0\n",
    "\n",
    "def CalcFPR (ProbArray, TrueArray, Border):\n",
    "    FP=CalcFP(ProbArray, TrueArray, Border)\n",
    "    TN=CalcTN(ProbArray, TrueArray, Border)\n",
    "    if FP+TN!=0:\n",
    "        FPR=FP/(FP+TN)\n",
    "        return FPR\n",
    "    else:\n",
    "        return 0\n",
    "\n",
    "def ROC_And_Gini (ProbArray, TrueArray, Step, Print):#Draw ROC (Print=1) and calc Gini\n",
    "    plt.grid(True)\n",
    "    Gini=0\n",
    "    X=[]\n",
    "    Y=[]\n",
    "    Counter=0\n",
    "    Border=0\n",
    "    while Border <= 1:\n",
    "        X.insert(Counter, CalcFPR(ProbArray, TrueArray, Border))\n",
    "        Y.insert(Counter, CalcTPR(ProbArray, TrueArray, Border))\n",
    "        Gini=max(Gini, abs(X[Counter] - Y[Counter]))\n",
    "        Counter+=1\n",
    "        if Border < 1 and Border + Step > 1:\n",
    "            Border = 1\n",
    "        else:\n",
    "            Border+=Step\n",
    "    if Print == 1:\n",
    "        plt.plot([0, 1], [0, 1], 'g:')\n",
    "        plt.plot(X,Y,'b-')\n",
    "        plt.show()\n",
    "    return Gini"
   ]
  },
  {
   "cell_type": "code",
   "execution_count": 18,
   "metadata": {
    "collapsed": false
   },
   "outputs": [
    {
     "name": "stdout",
     "output_type": "stream",
     "text": [
      "p1_Fraud:\n"
     ]
    },
    {
     "data": {
      "image/png": "[encoded data removed]",
      "text/plain": [
       "<matplotlib.figure.Figure at 0xa355588>"
      ]
     },
     "metadata": {},
     "output_type": "display_data"
    },
    {
     "name": "stdout",
     "output_type": "stream",
     "text": [
      "Gini1 =  0.21599193362080893\n",
      "\n",
      "p2_Fraud:\n"
     ]
    },
    {
     "data": {
      "image/png": "[encoded data removed]",
      "text/plain": [
       "<matplotlib.figure.Figure at 0x9dd3a90>"
      ]
     },
     "metadata": {},
     "output_type": "display_data"
    },
    {
     "name": "stdout",
     "output_type": "stream",
     "text": [
      "Gini2 =  0.2935194110815881\n",
      "\n",
      "p3_Fraud:\n"
     ]
    },
    {
     "data": {
      "image/png": "[encoded data removed]",
      "text/plain": [
       "<matplotlib.figure.Figure at 0xa4d6908>"
      ]
     },
     "metadata": {},
     "output_type": "display_data"
    },
    {
     "name": "stdout",
     "output_type": "stream",
     "text": [
      "Gini3 =  0.8102299301457876\n",
      "\n",
      "p4_Fraud:\n"
     ]
    },
    {
     "data": {
      "image/png": "[encoded data removed]",
      "text/plain": [
       "<matplotlib.figure.Figure at 0xa407e80>"
      ]
     },
     "metadata": {},
     "output_type": "display_data"
    },
    {
     "name": "stdout",
     "output_type": "stream",
     "text": [
      "Gini4 =  0.33455958891742527\n",
      "\n",
      "p5_Fraud:\n"
     ]
    },
    {
     "data": {
      "image/png": "[encoded data removed]",
      "text/plain": [
       "<matplotlib.figure.Figure at 0xa3559b0>"
      ]
     },
     "metadata": {},
     "output_type": "display_data"
    },
    {
     "name": "stdout",
     "output_type": "stream",
     "text": [
      "Gini5 =  0.34117571691164283\n"
     ]
    }
   ],
   "source": [
    "print (\"p1_Fraud:\")\n",
    "print (\"Gini1 = \", ROC_And_Gini(df['p1_Fraud'], df['CLASS'], 0.05, 1))\n",
    "print (\"\\np2_Fraud:\")\n",
    "print (\"Gini2 = \", ROC_And_Gini(df['p2_Fraud'], df['CLASS'], 0.05, 1))\n",
    "print (\"\\np3_Fraud:\")\n",
    "print (\"Gini3 = \", ROC_And_Gini(df['p3_Fraud'], df['CLASS'], 0.05, 1))\n",
    "print (\"\\np4_Fraud:\")\n",
    "print (\"Gini4 = \", ROC_And_Gini(df['p4_Fraud'], df['CLASS'], 0.05, 1))\n",
    "print (\"\\np5_Fraud:\")\n",
    "print (\"Gini5 = \", ROC_And_Gini(df['p5_Fraud'], df['CLASS'], 0.05, 1))"
   ]
  },
  {
   "cell_type": "code",
   "execution_count": 81,
   "metadata": {
    "collapsed": false
   },
   "outputs": [],
   "source": [
    "#Task4\n",
    "def Vote (Prob, Border):\n",
    "    if Prob >= Border:\n",
    "        return 1\n",
    "    else:\n",
    "        return -1\n",
    "\n",
    "def Votation (P1, P2, P3, P4, P5, Real, Border):\n",
    "    Ansver=0\n",
    "    FP_Count=0\n",
    "    i=0\n",
    "    while i < min(len(P1), len(Real)):\n",
    "        Ansver+=Vote(P1[i], Border)\n",
    "        Ansver+=Vote(P2[i], Border)\n",
    "        Ansver+=Vote(P3[i], Border)\n",
    "        Ansver+=Vote(P4[i], Border)\n",
    "        Ansver+=Vote(P5[i], Border)\n",
    "        if Ansver > 0 and Real[i] == \"G\":\n",
    "            FP_Count+=1\n",
    "        Ansver=0\n",
    "        i+=1\n",
    "    return FP_Count\n",
    "\n",
    "def CalcMinFP_Border (P1, P2, P3, P4, P5, Real, Step):\n",
    "    Border=1\n",
    "    Result=Border\n",
    "    MinFP=Votation (P1, P2, P3, P4, P5, Real, Border)\n",
    "    FP=0\n",
    "    while Border >= 0:\n",
    "        FP=Votation (P1, P2, P3, P4, P5, Real, Border)\n",
    "        if MinFP < FP:\n",
    "            Border=-1\n",
    "        else:\n",
    "            Result=Border\n",
    "            MinFP=FP\n",
    "            Border-=Step\n",
    "    return Result\n",
    "\n",
    "def GroupProb1 (Arr1, Arr2, Arr3):\n",
    "    Group=[]\n",
    "    i=0\n",
    "    Length=min(len(Arr1), len(Arr2), len(Arr3)\n",
    "    while i < Length:\n",
    "        Group.insert(i, (Arr1[i]+Arr2[i]+Arr3[i])/3)\n",
    "        i+=1\n",
    "    return Group"
   ]
  },
  {
   "cell_type": "code",
   "execution_count": 83,
   "metadata": {
    "collapsed": false
   },
   "outputs": [
    {
     "name": "stdout",
     "output_type": "stream",
     "text": [
      "False positive (>= 0.5):  7504\n",
      "False positive (>= 0.8):  0\n",
      "Min Border (Min FP):  0.7999999999999998\n"
     ]
    },
    {
     "data": {
      "image/png": "[encoded data removed]",
      "text/plain": [
       "<matplotlib.figure.Figure at 0xa018a20>"
      ]
     },
     "metadata": {},
     "output_type": "display_data"
    },
    {
     "data": {
      "text/plain": [
       "0.49692753663226835"
      ]
     },
     "execution_count": 83,
     "metadata": {},
     "output_type": "execute_result"
    }
   ],
   "source": [
    "print (\"False positive (>= 0.5): \", Votation (df['p1_Fraud'], df['p2_Fraud'], df['p3_Fraud'], df['p4_Fraud'], df['p5_Fraud'], df['CLASS'], 0.5))\n",
    "print (\"False positive (>= 0.8): \", Votation (df['p1_Fraud'], df['p2_Fraud'], df['p3_Fraud'], df['p4_Fraud'], df['p5_Fraud'], df['CLASS'], 0.8))\n",
    "print (\"Min Border (Min FP): \", CalcMinFP_Border (df['p1_Fraud'], df['p2_Fraud'], df['p3_Fraud'], df['p4_Fraud'], df['p5_Fraud'], df['CLASS'], 0.01))\n",
    "\n",
    "Group=GroupProb1 (df['p1_Fraud'], df['p2_Fraud'], df['p3_Fraud'])\n",
    "ROC_And_Gini(Group, df['CLASS'], 0.01, 1)"
   ]
  },
  {
   "cell_type": "code",
   "execution_count": 90,
   "metadata": {
    "collapsed": false
   },
   "outputs": [],
   "source": [
    "#Task5\n",
    "def AlreadyUsed (A, B, C, Min, Step):\n",
    "    i=Min+Step\n",
    "    Max=min(A,B,C)\n",
    "    while i < Max:\n",
    "        if A%i==0 and B%i==0 and C%i==0:\n",
    "            return 1\n",
    "        i+=Step\n",
    "    return 0\n",
    "    \n",
    "def GroupProb1 (Arr1, Arr2, Arr3, A, B, C):\n",
    "    Group=[]\n",
    "    i=0\n",
    "    Length=min(len(Arr1), len(Arr2), len(Arr3))\n",
    "    while i < Length:\n",
    "        Group.insert(i, (A*Arr1[i]+B*Arr2[i]+C*Arr3[i])/(A+B+C))\n",
    "        i+=1\n",
    "    return Group\n",
    "\n",
    "def CalcMaxGini (P1, P2, P3, Min, Max, Step):\n",
    "    Gini=0\n",
    "    Temp=0\n",
    "    A = Min\n",
    "    B = Min\n",
    "    C = Min\n",
    "    i = Min\n",
    "    j = Min\n",
    "    k = Min\n",
    "    while i<Max:\n",
    "        while j<Max:\n",
    "            while k<Max:\n",
    "                if AlreadyUsed (i, j, k, Min, Step) == 0:\n",
    "                    Temp=ROC_And_Gini(GroupProb1(P1, P2, P3, i, j, k), df['CLASS'], 0.01, 0)\n",
    "                    if Temp>Gini:\n",
    "                        A=i\n",
    "                        B=j\n",
    "                        C=k\n",
    "                        Gini=Temp\n",
    "                k+=Step\n",
    "            j+=Step\n",
    "        i+=Step\n",
    "    print (\"Max Gini=\", Gini)\n",
    "    print (\"A=\", A)\n",
    "    print (\"B=\", B)\n",
    "    print (\"C=\", C)"
   ]
  },
  {
   "cell_type": "code",
   "execution_count": 91,
   "metadata": {
    "collapsed": false
   },
   "outputs": [
    {
     "ename": "KeyboardInterrupt",
     "evalue": "",
     "output_type": "error",
     "traceback": [
      "\u001b[0;31m---------------------------------------------------------------------------\u001b[0m",
      "\u001b[0;31mKeyboardInterrupt\u001b[0m                         Traceback (most recent call last)",
      "\u001b[0;32m<ipython-input-91-e319099a975f>\u001b[0m in \u001b[0;36m<module>\u001b[0;34m()\u001b[0m\n\u001b[0;32m----> 1\u001b[0;31m \u001b[0mCalcMaxGini\u001b[0m \u001b[1;33m(\u001b[0m\u001b[0mdf\u001b[0m\u001b[1;33m[\u001b[0m\u001b[1;34m'p1_Fraud'\u001b[0m\u001b[1;33m]\u001b[0m\u001b[1;33m,\u001b[0m \u001b[0mdf\u001b[0m\u001b[1;33m[\u001b[0m\u001b[1;34m'p2_Fraud'\u001b[0m\u001b[1;33m]\u001b[0m\u001b[1;33m,\u001b[0m \u001b[0mdf\u001b[0m\u001b[1;33m[\u001b[0m\u001b[1;34m'p3_Fraud'\u001b[0m\u001b[1;33m]\u001b[0m\u001b[1;33m,\u001b[0m \u001b[1;36m0.1\u001b[0m\u001b[1;33m,\u001b[0m \u001b[1;36m10\u001b[0m\u001b[1;33m,\u001b[0m \u001b[1;36m0.1\u001b[0m\u001b[1;33m)\u001b[0m\u001b[1;33m\u001b[0m\u001b[0m\n\u001b[0m",
      "\u001b[0;32m<ipython-input-90-1cbaf322eeb1>\u001b[0m in \u001b[0;36mCalcMaxGini\u001b[0;34m(P1, P2, P3, Min, Max, Step)\u001b[0m\n\u001b[1;32m     31\u001b[0m             \u001b[1;32mwhile\u001b[0m \u001b[0mk\u001b[0m\u001b[1;33m<\u001b[0m\u001b[0mMax\u001b[0m\u001b[1;33m:\u001b[0m\u001b[1;33m\u001b[0m\u001b[0m\n\u001b[1;32m     32\u001b[0m                 \u001b[1;32mif\u001b[0m \u001b[0mAlreadyUsed\u001b[0m \u001b[1;33m(\u001b[0m\u001b[0mi\u001b[0m\u001b[1;33m,\u001b[0m \u001b[0mj\u001b[0m\u001b[1;33m,\u001b[0m \u001b[0mk\u001b[0m\u001b[1;33m,\u001b[0m \u001b[0mMin\u001b[0m\u001b[1;33m,\u001b[0m \u001b[0mStep\u001b[0m\u001b[1;33m)\u001b[0m \u001b[1;33m==\u001b[0m \u001b[1;36m0\u001b[0m\u001b[1;33m:\u001b[0m\u001b[1;33m\u001b[0m\u001b[0m\n\u001b[0;32m---> 33\u001b[0;31m                     \u001b[0mTemp\u001b[0m\u001b[1;33m=\u001b[0m\u001b[0mROC_And_Gini\u001b[0m\u001b[1;33m(\u001b[0m\u001b[0mGroupProb1\u001b[0m\u001b[1;33m(\u001b[0m\u001b[0mP1\u001b[0m\u001b[1;33m,\u001b[0m \u001b[0mP2\u001b[0m\u001b[1;33m,\u001b[0m \u001b[0mP3\u001b[0m\u001b[1;33m,\u001b[0m \u001b[0mi\u001b[0m\u001b[1;33m,\u001b[0m \u001b[0mj\u001b[0m\u001b[1;33m,\u001b[0m \u001b[0mk\u001b[0m\u001b[1;33m)\u001b[0m\u001b[1;33m,\u001b[0m \u001b[0mdf\u001b[0m\u001b[1;33m[\u001b[0m\u001b[1;34m'CLASS'\u001b[0m\u001b[1;33m]\u001b[0m\u001b[1;33m,\u001b[0m \u001b[1;36m0.01\u001b[0m\u001b[1;33m,\u001b[0m \u001b[1;36m0\u001b[0m\u001b[1;33m)\u001b[0m\u001b[1;33m\u001b[0m\u001b[0m\n\u001b[0m\u001b[1;32m     34\u001b[0m                     \u001b[1;32mif\u001b[0m \u001b[0mTemp\u001b[0m\u001b[1;33m>\u001b[0m\u001b[0mGini\u001b[0m\u001b[1;33m:\u001b[0m\u001b[1;33m\u001b[0m\u001b[0m\n\u001b[1;32m     35\u001b[0m                         \u001b[0mA\u001b[0m\u001b[1;33m=\u001b[0m\u001b[0mi\u001b[0m\u001b[1;33m\u001b[0m\u001b[0m\n",
      "\u001b[0;32m<ipython-input-17-4f01cfe3e481>\u001b[0m in \u001b[0;36mROC_And_Gini\u001b[0;34m(ProbArray, TrueArray, Step, Print)\u001b[0m\n\u001b[1;32m     26\u001b[0m     \u001b[0mBorder\u001b[0m\u001b[1;33m=\u001b[0m\u001b[1;36m0\u001b[0m\u001b[1;33m\u001b[0m\u001b[0m\n\u001b[1;32m     27\u001b[0m     \u001b[1;32mwhile\u001b[0m \u001b[0mBorder\u001b[0m \u001b[1;33m<=\u001b[0m \u001b[1;36m1\u001b[0m\u001b[1;33m:\u001b[0m\u001b[1;33m\u001b[0m\u001b[0m\n\u001b[0;32m---> 28\u001b[0;31m         \u001b[0mX\u001b[0m\u001b[1;33m.\u001b[0m\u001b[0minsert\u001b[0m\u001b[1;33m(\u001b[0m\u001b[0mCounter\u001b[0m\u001b[1;33m,\u001b[0m \u001b[0mCalcFPR\u001b[0m\u001b[1;33m(\u001b[0m\u001b[0mProbArray\u001b[0m\u001b[1;33m,\u001b[0m \u001b[0mTrueArray\u001b[0m\u001b[1;33m,\u001b[0m \u001b[0mBorder\u001b[0m\u001b[1;33m)\u001b[0m\u001b[1;33m)\u001b[0m\u001b[1;33m\u001b[0m\u001b[0m\n\u001b[0m\u001b[1;32m     29\u001b[0m         \u001b[0mY\u001b[0m\u001b[1;33m.\u001b[0m\u001b[0minsert\u001b[0m\u001b[1;33m(\u001b[0m\u001b[0mCounter\u001b[0m\u001b[1;33m,\u001b[0m \u001b[0mCalcTPR\u001b[0m\u001b[1;33m(\u001b[0m\u001b[0mProbArray\u001b[0m\u001b[1;33m,\u001b[0m \u001b[0mTrueArray\u001b[0m\u001b[1;33m,\u001b[0m \u001b[0mBorder\u001b[0m\u001b[1;33m)\u001b[0m\u001b[1;33m)\u001b[0m\u001b[1;33m\u001b[0m\u001b[0m\n\u001b[1;32m     30\u001b[0m         \u001b[0mGini\u001b[0m\u001b[1;33m=\u001b[0m\u001b[0mMax\u001b[0m\u001b[1;33m(\u001b[0m\u001b[0mGini\u001b[0m\u001b[1;33m,\u001b[0m \u001b[0mAbs\u001b[0m\u001b[1;33m(\u001b[0m\u001b[0mX\u001b[0m\u001b[1;33m[\u001b[0m\u001b[0mCounter\u001b[0m\u001b[1;33m]\u001b[0m\u001b[1;33m,\u001b[0m \u001b[0mY\u001b[0m\u001b[1;33m[\u001b[0m\u001b[0mCounter\u001b[0m\u001b[1;33m]\u001b[0m\u001b[1;33m)\u001b[0m\u001b[1;33m)\u001b[0m\u001b[1;33m\u001b[0m\u001b[0m\n",
      "\u001b[0;32m<ipython-input-17-4f01cfe3e481>\u001b[0m in \u001b[0;36mCalcFPR\u001b[0;34m(ProbArray, TrueArray, Border)\u001b[0m\n\u001b[1;32m     11\u001b[0m \u001b[1;32mdef\u001b[0m \u001b[0mCalcFPR\u001b[0m \u001b[1;33m(\u001b[0m\u001b[0mProbArray\u001b[0m\u001b[1;33m,\u001b[0m \u001b[0mTrueArray\u001b[0m\u001b[1;33m,\u001b[0m \u001b[0mBorder\u001b[0m\u001b[1;33m)\u001b[0m\u001b[1;33m:\u001b[0m\u001b[1;33m\u001b[0m\u001b[0m\n\u001b[1;32m     12\u001b[0m     \u001b[0mFP\u001b[0m\u001b[1;33m=\u001b[0m\u001b[0mCalcFP\u001b[0m\u001b[1;33m(\u001b[0m\u001b[0mProbArray\u001b[0m\u001b[1;33m,\u001b[0m \u001b[0mTrueArray\u001b[0m\u001b[1;33m,\u001b[0m \u001b[0mBorder\u001b[0m\u001b[1;33m)\u001b[0m\u001b[1;33m\u001b[0m\u001b[0m\n\u001b[0;32m---> 13\u001b[0;31m     \u001b[0mTN\u001b[0m\u001b[1;33m=\u001b[0m\u001b[0mCalcTN\u001b[0m\u001b[1;33m(\u001b[0m\u001b[0mProbArray\u001b[0m\u001b[1;33m,\u001b[0m \u001b[0mTrueArray\u001b[0m\u001b[1;33m,\u001b[0m \u001b[0mBorder\u001b[0m\u001b[1;33m)\u001b[0m\u001b[1;33m\u001b[0m\u001b[0m\n\u001b[0m\u001b[1;32m     14\u001b[0m     \u001b[1;32mif\u001b[0m \u001b[0mFP\u001b[0m\u001b[1;33m+\u001b[0m\u001b[0mTN\u001b[0m\u001b[1;33m!=\u001b[0m\u001b[1;36m0\u001b[0m\u001b[1;33m:\u001b[0m\u001b[1;33m\u001b[0m\u001b[0m\n\u001b[1;32m     15\u001b[0m         \u001b[0mFPR\u001b[0m\u001b[1;33m=\u001b[0m\u001b[0mFP\u001b[0m\u001b[1;33m/\u001b[0m\u001b[1;33m(\u001b[0m\u001b[0mFP\u001b[0m\u001b[1;33m+\u001b[0m\u001b[0mTN\u001b[0m\u001b[1;33m)\u001b[0m\u001b[1;33m\u001b[0m\u001b[0m\n",
      "\u001b[0;32m<ipython-input-7-2b8283b7cf41>\u001b[0m in \u001b[0;36mCalcTN\u001b[0;34m(ProbArray, TrueArray, Border)\u001b[0m\n\u001b[1;32m     33\u001b[0m     \u001b[0mTNC\u001b[0m\u001b[1;33m=\u001b[0m\u001b[1;36m0\u001b[0m\u001b[1;33m\u001b[0m\u001b[0m\n\u001b[1;32m     34\u001b[0m     \u001b[0mi\u001b[0m\u001b[1;33m=\u001b[0m\u001b[1;36m1\u001b[0m\u001b[1;33m\u001b[0m\u001b[0m\n\u001b[0;32m---> 35\u001b[0;31m     \u001b[1;32mwhile\u001b[0m \u001b[0mi\u001b[0m \u001b[1;33m<\u001b[0m \u001b[0mMin\u001b[0m\u001b[1;33m(\u001b[0m\u001b[0mlen\u001b[0m\u001b[1;33m(\u001b[0m\u001b[0mProbArray\u001b[0m\u001b[1;33m)\u001b[0m\u001b[1;33m,\u001b[0m \u001b[0mlen\u001b[0m\u001b[1;33m(\u001b[0m\u001b[0mTrueArray\u001b[0m\u001b[1;33m)\u001b[0m\u001b[1;33m)\u001b[0m\u001b[1;33m:\u001b[0m\u001b[1;33m\u001b[0m\u001b[0m\n\u001b[0m\u001b[1;32m     36\u001b[0m         \u001b[1;32mif\u001b[0m \u001b[0mProbArray\u001b[0m\u001b[1;33m[\u001b[0m\u001b[0mi\u001b[0m\u001b[1;33m]\u001b[0m \u001b[1;33m<\u001b[0m \u001b[0mBorder\u001b[0m \u001b[1;32mand\u001b[0m \u001b[0mTrueArray\u001b[0m\u001b[1;33m[\u001b[0m\u001b[0mi\u001b[0m\u001b[1;33m]\u001b[0m \u001b[1;33m==\u001b[0m \u001b[1;34m\"G\"\u001b[0m\u001b[1;33m:\u001b[0m\u001b[1;33m\u001b[0m\u001b[0m\n\u001b[1;32m     37\u001b[0m             \u001b[0mTNC\u001b[0m\u001b[1;33m+=\u001b[0m\u001b[1;36m1\u001b[0m\u001b[1;33m\u001b[0m\u001b[0m\n",
      "\u001b[0;32mC:\\ProgramData\\Anaconda3\\lib\\site-packages\\pandas\\core\\series.py\u001b[0m in \u001b[0;36m__len__\u001b[0;34m(self)\u001b[0m\n\u001b[1;32m    465\u001b[0m         \u001b[1;32mreturn\u001b[0m \u001b[0mthe\u001b[0m \u001b[0mlength\u001b[0m \u001b[0mof\u001b[0m \u001b[0mthe\u001b[0m \u001b[0mSeries\u001b[0m\u001b[1;33m\u001b[0m\u001b[0m\n\u001b[1;32m    466\u001b[0m         \"\"\"\n\u001b[0;32m--> 467\u001b[0;31m         \u001b[1;32mreturn\u001b[0m \u001b[0mlen\u001b[0m\u001b[1;33m(\u001b[0m\u001b[0mself\u001b[0m\u001b[1;33m.\u001b[0m\u001b[0m_data\u001b[0m\u001b[1;33m)\u001b[0m\u001b[1;33m\u001b[0m\u001b[0m\n\u001b[0m\u001b[1;32m    468\u001b[0m \u001b[1;33m\u001b[0m\u001b[0m\n\u001b[1;32m    469\u001b[0m     \u001b[1;32mdef\u001b[0m \u001b[0mview\u001b[0m\u001b[1;33m(\u001b[0m\u001b[0mself\u001b[0m\u001b[1;33m,\u001b[0m \u001b[0mdtype\u001b[0m\u001b[1;33m=\u001b[0m\u001b[1;32mNone\u001b[0m\u001b[1;33m)\u001b[0m\u001b[1;33m:\u001b[0m\u001b[1;33m\u001b[0m\u001b[0m\n",
      "\u001b[0;31mKeyboardInterrupt\u001b[0m: "
     ]
    }
   ],
   "source": [
    "CalcMaxGini (df['p1_Fraud'], df['p2_Fraud'], df['p3_Fraud'], 0.1, 10, 0.1)"
   ]
  },
  {
   "cell_type": "code",
   "execution_count": 25,
   "metadata": {
    "collapsed": true
   },
   "outputs": [],
   "source": [
    "#Task6"
   ]
  },
  {
   "cell_type": "code",
   "execution_count": 26,
   "metadata": {
    "collapsed": false
   },
   "outputs": [],
   "source": [
    "#Task7\n",
    "def CallCenter (ProbArray, TrueArray, Border):\n",
    "    Delta=0\n",
    "    RND=0\n",
    "    i=0\n",
    "    while i < min(len(ProbArray), len(TrueArray)):\n",
    "        if ProbArray[i] >= Border:\n",
    "            RND=rnd.random()\n",
    "            #print (RND)\n",
    "            if RND <= 0.9:\n",
    "                Delta+=400\n",
    "                if TrueArray[i] == \"G\":\n",
    "                    Delta-=2000\n",
    "        i+=1\n",
    "\n",
    "    if Delta < 0:\n",
    "        print (\"Bank lost\", -1*Delta, \"credits\")\n",
    "    else:\n",
    "        print (\"Bank recieved\", Delta, \"credits\")"
   ]
  },
  {
   "cell_type": "code",
   "execution_count": 27,
   "metadata": {
    "collapsed": false
   },
   "outputs": [
    {
     "name": "stdout",
     "output_type": "stream",
     "text": [
      "Bank recieved 0 credits\n",
      "Bank lost 2800 credits\n",
      "Bank lost 7222400 credits\n",
      "Bank lost 7378000 credits\n",
      "Bank recieved 2483600 credits\n",
      "Bank lost 694400 credits\n",
      "Bank lost 9131200 credits\n"
     ]
    }
   ],
   "source": [
    "CallCenter (df['p1_Fraud'], df['CLASS'], 0.75)\n",
    "CallCenter (df['p1_Fraud'], df['CLASS'], 0.7)\n",
    "CallCenter (df['p1_Fraud'], df['CLASS'], 0.65)\n",
    "CallCenter (df['p2_Fraud'], df['CLASS'], 0.7)\n",
    "CallCenter (df['p3_Fraud'], df['CLASS'], 0.7)\n",
    "CallCenter (df['p4_Fraud'], df['CLASS'], 0.7)\n",
    "CallCenter (df['p5_Fraud'], df['CLASS'], 0.7)"
   ]
  },
  {
   "cell_type": "code",
   "execution_count": 92,
   "metadata": {
    "collapsed": true
   },
   "outputs": [],
   "source": [
    "#Task8"
   ]
  }
 ],
 "metadata": {
  "kernelspec": {
   "display_name": "Python 3",
   "language": "python",
   "name": "python3"
  },
  "language_info": {
   "codemirror_mode": {
    "name": "ipython",
    "version": 3
   },
   "file_extension": ".py",
   "mimetype": "text/x-python",
   "name": "python",
   "nbconvert_exporter": "python",
   "pygments_lexer": "ipython3",
   "version": "3.6.0"
  }
 },
 "nbformat": 4,
 "nbformat_minor": 2
}
